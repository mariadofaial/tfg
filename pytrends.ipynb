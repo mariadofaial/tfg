{
 "cells": [
  {
   "cell_type": "code",
   "execution_count": 1,
   "metadata": {},
   "outputs": [],
   "source": [
    "import pytrends\n",
    "import pandas as pd\n",
    "import lxml\n",
    "import requests\n",
    "# import numpy as np\n",
    "#Creamos un DataFrame vacío.\n",
    "df = pd.DataFrame()\n"
   ]
  },
  {
   "cell_type": "code",
   "execution_count": 2,
   "metadata": {},
   "outputs": [],
   "source": [
    "#TrendReq recibe dos parámetros importantes.\n",
    "#-hl significa lenguaje de alojamiento para acceder a Google Trends; en este ejemplo, configuramos English.\n",
    "# -tz significa zona horaria, en este ejemplo, usamos la zona horaria de Europa central, dónde se encuentra España. (representada en minutos ), que es 60.\n",
    "#https://forbrains.co.uk/international_tools/earth_timezones\n",
    "from pytrends.request import TrendReq\n",
    "pytrends = TrendReq(hl='en-US', tz=60)"
   ]
  },
  {
   "cell_type": "code",
   "execution_count": 3,
   "metadata": {},
   "outputs": [
    {
     "name": "stdout",
     "output_type": "stream",
     "text": [
      "Se está buscando: bitcoin\n",
      "The request failed: Google returned a response with code 400.\n"
     ]
    }
   ],
   "source": [
    "import sqlite3\n",
    "# Conexión con la bbdd\n",
    "conn = sqlite3.connect('noticiascriptomonedas.db')\n",
    "c = conn.cursor()\n",
    "\n",
    "\n",
    "#list = ['bitcoin','btc','mana', 'mana crypto','decentraland','cryptocurrency','crypto','metaverse','nft','nfts'] # list of keywords to get data\n",
    "# list = [['bitcoin'],['btc']]\n",
    "list=['bitcoin']\n",
    "\n",
    "\n",
    "\n",
    "for topic in list:\n",
    "       # topic=topic[0]\n",
    "       print('Se está buscando:',topic)\n",
    "       list_topics_bbdd=c.execute('SELECT criterio FROM TOPIC_G').fetchall()\n",
    "       list_topics_bbdd=[item[0] for item in list_topics_bbdd]\n",
    "\n",
    "       if topic not in list_topics_bbdd:\n",
    "              try:\n",
    "                     c.execute('INSERT INTO TOPIC_G(criterio) VALUES (?)',(topic,))\n",
    "                     conn.commit()\n",
    "                     print('Se ha añadido a TOPIC_G:',topic)\n",
    "              except sqlite3.Error as error:\n",
    "                     print(\"No se ha podido añadir (?) en la tabla TOPIC_G:\", (topic,error))\n",
    "\n",
    "       # kw_list=Criterio\n",
    "       # kw_list=['bitcoin','btc']\n",
    "\n",
    "       # El estudio se ha realizado teniendo en cuenta las interaciones de las redes sociales comprendidas entre el 1 de marzo- 17 de abril\n",
    "       # pytrends.build_payload(kw_list, cat=0, timeframe=('2022-03-01 2022-04-17'))\n",
    "       # data = pytrends.interest_over_time()\n",
    "       # data = data.reset_index()\n",
    "       # df = data[['date','bitcoin','btc']]\n",
    "       data= pytrends.get_historical_interest(topic, year_start=2022, month_start=3, day_start=1, hour_start=0, year_end=2022, month_end=4, day_end=17, hour_end=0, cat=0, geo='', gprop='', sleep=60)\n",
    "       print(data)\n",
    "       df = pd.DataFrame(data)\n",
    "       df = df.reset_index()\n",
    "       date = df['date']\n",
    "       search = df[topic]  \n",
    "       for i in range(len(search)):\n",
    "              c.execute(\"\"\"INSERT INTO PRINCIPAL_G(fecha, busquedas) VALUES (?,?);\"\"\",(date[i],int(search[i]),))\n",
    "              c.execute(\"\"\"INSERT INTO INCLUIDO_G VALUES ((SELECT id_topicg FROM TOPIC_G WHERE criterio=(?)),(SELECT id_principalg FROM PRINCIPAL_G ORDER BY id_principalg DESC LIMIT 1 ));\"\"\",(topic,))\n",
    "\n",
    "# conn.commit()\n",
    "       \n",
    "c.close()\n",
    "conn.close()"
   ]
  }
 ],
 "metadata": {
  "interpreter": {
   "hash": "59a24881f332c5c49ad0ca10ec7d435eb27f673ae4cd0a475422e642637c2a57"
  },
  "kernelspec": {
   "display_name": "Python 3.8.9 64-bit",
   "language": "python",
   "name": "python3"
  },
  "language_info": {
   "codemirror_mode": {
    "name": "ipython",
    "version": 3
   },
   "file_extension": ".py",
   "mimetype": "text/x-python",
   "name": "python",
   "nbconvert_exporter": "python",
   "pygments_lexer": "ipython3",
   "version": "3.8.9"
  },
  "orig_nbformat": 4
 },
 "nbformat": 4,
 "nbformat_minor": 2
}
